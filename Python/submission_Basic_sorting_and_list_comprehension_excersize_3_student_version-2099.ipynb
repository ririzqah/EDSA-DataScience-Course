{
 "cells": [
  {
   "cell_type": "markdown",
   "metadata": {},
   "source": [
    "# Basic Sorting and List Comprehension Exercise 3"
   ]
  },
  {
   "cell_type": "markdown",
   "metadata": {},
   "source": [
    "## Instructions to Students\n",
    "- **Do not add or remove cells in this notebook. Do not edit or remove the `### START FUNCTION` or `### END FUNCTION` comments. Do not add any code outside of the functions you are required to edit. Doing any of this will lead to a mark of 0%!**\n",
    "- Answer the questions according to the specifications provided.\n",
    "- Use the given cell in each question to see if your function matches the expected outputs.\n",
    "- Do not hard-code answers to the questions.\n",
    "- The use of StackOverflow, Google, and other online tools are permitted. However, copying fellow student's code is not permissible and is considered a breach of the Honour code below. Doing this will result in a mark of 0%.\n",
    "- Good luck, and may the force be with you!\n",
    "\n",
    "## Honour code\n",
    "\n",
    "I **YOUR NAME, YOUR SURNAME**, confirm - by submitting this document - that the solutions in this notebook are a result of my own work and that I abide by the EDSA honour code (https://drive.google.com/file/d/1QDCjGZJ8-FmJE3bZdIQNwnJyQKPhHZBn/view?usp=sharing).  \n",
    "\n",
    "Non-compliance with the honour code constitutes a material breach of contract.\n",
    "\n",
    "## Challenge \n",
    "\n",
    "In coding challenge 2, you were introduced to RNA synthesis. DNA differs from RNA because RNA is one strand compared to double-stranded DNA. It also differs in that instead of the U nucleotide, it contains a T. Below is an example of the different structures taken from https://byjus.com/biology/difference-between-dna-and-rna/:\n",
    "\n",
    "The same lab was extremely impressed with the first code and now wants a new one. They want to find the complementary strands of DNA. Here is the low-down:\n",
    "\n",
    "A links with T and vice versa\n",
    "C links with G and vice versa\n",
    "An example of the complementary strand for the code ATCGGAATGCC is TAGCCTTACGG\n",
    "\n",
    "You are tasked to create a function dna_complementary which finds the complementary strand for a given DNA strand based on the above criteria. The function must return a string of the code\n",
    "\n",
    "This kind of code can be really helpful as a product. Imagine trying to get DNA strands for thousands of sequences which are thousands of nucleotides long. This is the power of python and coding!\n",
    "\n",
    "**Hint**: We didn't teach you dictionaries for nothing"
   ]
  },
  {
   "cell_type": "code",
   "execution_count": 4,
   "metadata": {},
   "outputs": [
    {
     "data": {
      "text/html": [
       "<img src=\"https://github.com/Explore-AI/Pictures/blob/master/Difference-Between-DNA-and-RNA.png?raw=true\"/>"
      ],
      "text/plain": [
       "<IPython.core.display.Image object>"
      ]
     },
     "execution_count": 4,
     "metadata": {},
     "output_type": "execute_result"
    }
   ],
   "source": [
    "from IPython.display import Image\n",
    "from IPython.core.display import HTML \n",
    "Image(url = 'https://github.com/Explore-AI/Pictures/blob/master/Difference-Between-DNA-and-RNA.png?raw=true')"
   ]
  },
  {
   "cell_type": "code",
   "execution_count": 29,
   "metadata": {},
   "outputs": [],
   "source": [
    "### START FUNCTION\n",
    "def dna_complementary(dna):\n",
    "    # your code here\n",
    "    comp = []\n",
    "    for n in dna:\n",
    "                if n == \"T\": comp.append(\"A\")\n",
    "                if n == \"A\": comp.append(\"T\")\n",
    "                if n == \"G\": comp.append(\"C\")\n",
    "                if n == \"C\": comp.append(\"G\")\n",
    "\n",
    "    return \"\".join(comp)\n",
    "\n",
    "### END FUNCTION"
   ]
  },
  {
   "cell_type": "code",
   "execution_count": 30,
   "metadata": {},
   "outputs": [
    {
     "data": {
      "text/plain": [
       "'TAGAATATTAATGGCTCAGCTAGCC'"
      ]
     },
     "execution_count": 30,
     "metadata": {},
     "output_type": "execute_result"
    }
   ],
   "source": [
    "dna_complementary('ATCTTATAATTACCGAGTCGATCGG')"
   ]
  },
  {
   "cell_type": "markdown",
   "metadata": {},
   "source": [
    "_**Expected Outputs**_ \n",
    "```python\n",
    "dna_complementary('ATCGGAATGCC') == 'TAGCCTTACGG'\n",
    "dna_complementary('TCCCGGATCGCATACGAT') == 'AGGGCCTAGCGTATGCTA'\n",
    "dna_complementary('ATCTTATAATTACCGAGTCGATCGG') == 'TAGAATATTAATGGCTCAGCTAGCC'\n",
    "dna_complementary('ATCGGACTACGA') == 'TAGCCTGATGCT'\n",
    "```"
   ]
  },
  {
   "cell_type": "markdown",
   "metadata": {},
   "source": [
    "## References"
   ]
  },
  {
   "cell_type": "markdown",
   "metadata": {},
   "source": [
    "This tutorial was created using the wonderful [Google Python Developers](https://developers.google.com/edu/python/) course, and has been modified under the [Creative Common's licence 2.5](https://creativecommons.org/licenses/by/2.5/) \n",
    "\n",
    "Copyright 2010 Google Inc. Licensed under the Apache License, Version 2.0 http://www.apache.org/licenses/LICENSE-2.0\n",
    "\n",
    "Google's Python Class http://code.google.com/edu/languages/google-python-class/"
   ]
  }
 ],
 "metadata": {
  "kernelspec": {
   "display_name": "Python 3",
   "language": "python",
   "name": "python3"
  },
  "language_info": {
   "codemirror_mode": {
    "name": "ipython",
    "version": 3
   },
   "file_extension": ".py",
   "mimetype": "text/x-python",
   "name": "python",
   "nbconvert_exporter": "python",
   "pygments_lexer": "ipython3",
   "version": "3.8.8"
  }
 },
 "nbformat": 4,
 "nbformat_minor": 2
}
