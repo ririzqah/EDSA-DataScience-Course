{
 "cells": [
  {
   "cell_type": "markdown",
   "metadata": {},
   "source": [
    "# Basic Sorting and List Comprehension Exercise 1"
   ]
  },
  {
   "cell_type": "markdown",
   "metadata": {},
   "source": [
    "## Instructions to Students\n",
    "- **Do not add or remove cells in this notebook. Do not edit or remove the `### START FUNCTION` or `### END FUNCTION` comments. Do not add any code outside of the functions you are required to edit. Doing any of this will lead to a mark of 0%!**\n",
    "- Answer the questions according to the specifications provided.\n",
    "- Use the given cell in each question to see if your function matches the expected outputs.\n",
    "- Do not hard-code answers to the questions.\n",
    "- The use of StackOverflow, Google, and other online tools are permitted. However, copying fellow student's code is not permissible and is considered a breach of the Honour code below. Doing this will result in a mark of 0%.\n",
    "- Good luck, and may the force be with you!\n",
    "\n",
    "## Honour Code\n",
    "\n",
    "I **YOUR NAME, YOUR SURNAME**, confirm - by submitting this document - that the solutions in this notebook are a result of my own work and that I abide by the EDSA honour code (https://drive.google.com/file/d/1QDCjGZJ8-FmJE3bZdIQNwnJyQKPhHZBn/view?usp=sharing).  \n",
    "\n",
    "Non-compliance with the honour code constitutes a material breach of contract.\n",
    "\n",
    "## Challenge\n",
    "\n",
    "Given a list of non-empty tuples, return a list sorted in increasing order by the last element in each tuple.\n",
    "e.g. [(1, 7), (1, 3), (3, 4, 5), (2, 2)] yields\n",
    "[(2, 2), (1, 3), (3, 4, 5), (1, 7)]\n",
    "Hint: If you are stuck, you can use a custom Key Function to extract the last element form each tuple."
   ]
  },
  {
   "cell_type": "code",
   "execution_count": 22,
   "metadata": {},
   "outputs": [],
   "source": [
    "### START FUNCTION\n",
    "def sort_last(tuples):    \n",
    "    # your code here\n",
    "    def last(t): return t[-1]\n",
    "    return sorted(tuples, key=last)\n",
    "### END FUNCTION"
   ]
  },
  {
   "cell_type": "code",
   "execution_count": 23,
   "metadata": {},
   "outputs": [
    {
     "data": {
      "text/plain": [
       "[(2, 2), (1, 3), (3, 4, 5), (1, 7)]"
      ]
     },
     "execution_count": 23,
     "metadata": {},
     "output_type": "execute_result"
    }
   ],
   "source": [
    "sort_last([(1, 7), (1, 3), (3, 4, 5), (2, 2)])"
   ]
  },
  {
   "cell_type": "markdown",
   "metadata": {},
   "source": [
    "_**Expected Outputs**_ \n",
    "```python\n",
    "sort_last([(1, 7), (1, 3), (3, 4, 5), (2, 2)]) == [(2, 2), (1, 3), (3, 4, 5), (1, 7)]\n",
    "sort_last([(3, 1, 9), (2, 6), (5, 7, 1)]) == [(5, 7, 1), (2, 6), (3, 1, 9)] \n",
    "sort_last([(4, 2), (1, 0, 9), (2, 7), (1, 1, 0), (2, 4, 8)]) == [(1, 1, 0), (4, 2), (2, 7), (2, 4, 8), (1, 0, 9)]\n",
    "sort_last([(51, 13), (71, 29), (55, 91, 9, 1), (23, 101, 0), (41,5)]) == [(23, 101, 0), (55, 91, 9, 1), (41, 5), (51, 13), (71, 29)]\n",
    "sort_last([(39, -10, 2, 0), (57, -9)]) == [(57, -9), (39, -10, 2, 0)]\n",
    "```"
   ]
  },
  {
   "cell_type": "markdown",
   "metadata": {},
   "source": [
    "## References"
   ]
  },
  {
   "cell_type": "markdown",
   "metadata": {},
   "source": [
    "This tutorial was created using the wonderful [Google Python Developers](https://developers.google.com/edu/python/) course, and has been modified under the [Creative Common's licence 2.5](https://creativecommons.org/licenses/by/2.5/) \n",
    "\n",
    "Copyright 2010 Google Inc. Licensed under the Apache License, Version 2.0 http://www.apache.org/licenses/LICENSE-2.0\n",
    "\n",
    "Google's Python Class http://code.google.com/edu/languages/google-python-class/"
   ]
  }
 ],
 "metadata": {
  "kernelspec": {
   "display_name": "Python 3",
   "language": "python",
   "name": "python3"
  },
  "language_info": {
   "codemirror_mode": {
    "name": "ipython",
    "version": 3
   },
   "file_extension": ".py",
   "mimetype": "text/x-python",
   "name": "python",
   "nbconvert_exporter": "python",
   "pygments_lexer": "ipython3",
   "version": "3.8.8"
  }
 },
 "nbformat": 4,
 "nbformat_minor": 2
}
