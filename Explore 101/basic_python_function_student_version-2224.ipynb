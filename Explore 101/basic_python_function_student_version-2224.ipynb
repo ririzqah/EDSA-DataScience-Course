{
 "cells": [
  {
   "cell_type": "markdown",
   "metadata": {},
   "source": [
    "# Basic Python Functions\n",
    "\n",
    "## Instructions to Students\n",
    "- **Do not add or remove cells in this notebook. Do not edit or remove the `### START FUNCTION` or `### END FUNCTION` comments. Do not add any code outside of the functions you are required to edit. Doing any of this will lead to a mark of 0%!**\n",
    "- Answer the questions according to the specifications provided.\n",
    "- Use the given cell in each question to to see if your function matches the expected outputs.\n",
    "- Do not hard-code answers to the questions.\n",
    "- The use of stackoverflow, google, and other online tools are permitted. However, copying fellow student's code is not permissible and is considered a breach of the Honour code below. Doing this will result in a mark of 0%.\n",
    "- Good luck, and may the force be with you!\n",
    "\n",
    "## Honour Code\n",
    "\n",
    "I **RIZQAH, MENIERS**, confirm - by submitting this document - that the solutions in this notebook are a result of my own work and that I abide by the   <a href=\"https://drive.google.com/open?id=1FXCIf425JLRx3JQi-ltSWppj8BCF3Np1\" target=\"_blank\">EDSA Student Manifesto</a>.\n",
    "\n",
    "Non-compliance with the honour code constitutes a material breach of contract.\n",
    "\n",
    "## Challenge 1\n",
    "A list of strings is passed through to the _`combine`_ function. Your task is to write the code which would return these strings combined into one sentence.\n",
    "\n",
    "For example: \n",
    "\n",
    "`>>> combine([\"Let's \", 'do ', 'this!'])`\n",
    "\n",
    "`\"Let's do this!\"` "
   ]
  },
  {
   "cell_type": "code",
   "execution_count": 1,
   "metadata": {},
   "outputs": [],
   "source": [
    "### START FUNCTION\n",
    "def combine(words):\n",
    "    string = ''.join(words)\n",
    "\n",
    "    return string\n",
    "### END FUNCTION"
   ]
  },
  {
   "cell_type": "markdown",
   "metadata": {},
   "source": [
    "You may upload your attempted solution to the Autograder as many times as you wish. In this sense, you could consider the Autograder not only as a marking program, but also to be a useful ally which can help check the correctness of your work - pointing out which questions may still need further effort on your part.\n",
    "\n",
    "Use the code block below to help test the correctness of the function you've developed. If the following statement returns `True`, then your solution may be working."
   ]
  },
  {
   "cell_type": "code",
   "execution_count": 2,
   "metadata": {},
   "outputs": [
    {
     "data": {
      "text/plain": [
       "True"
      ]
     },
     "execution_count": 2,
     "metadata": {},
     "output_type": "execute_result"
    }
   ],
   "source": [
    "combine(['I ','can ','code',' in ','Python!']) == 'I can code in Python!'"
   ]
  },
  {
   "cell_type": "markdown",
   "metadata": {},
   "source": [
    "**Expected Outputs:**\n",
    "```python\n",
    "combine(['Hello',', ','how',' ','are',' ','you','?']) == 'Hello, how are you?'\n",
    "combine(['I ','can ','code',' in ','Python!']) == 'I can code in Python!'\n",
    "```"
   ]
  },
  {
   "cell_type": "markdown",
   "metadata": {},
   "source": [
    "## Challenge 2\n",
    "In this task, we seek to perform the opposite operation from Challenge 1. A string is passed through to the _`separate`_ function. Your task is to write the code which will split the sentence into words, along each space character (\" \"), and return a list of strings.\n",
    "\n",
    "For example: \n",
    "\n",
    "`>>> separate(\"Let's do this!\")`\n",
    "\n",
    "`[\"Let's\", 'do', 'this!']` "
   ]
  },
  {
   "cell_type": "code",
   "execution_count": 3,
   "metadata": {},
   "outputs": [],
   "source": [
    "### START FUNCTION\n",
    "def separate(sentence):\n",
    "    lst= sentence.split()\n",
    "    \n",
    "    return lst\n",
    "### END FUNCTION"
   ]
  },
  {
   "cell_type": "code",
   "execution_count": 4,
   "metadata": {},
   "outputs": [
    {
     "data": {
      "text/plain": [
       "True"
      ]
     },
     "execution_count": 4,
     "metadata": {},
     "output_type": "execute_result"
    }
   ],
   "source": [
    "separate('Hello, how are you?') == ['Hello,', 'how', 'are', 'you?']"
   ]
  },
  {
   "cell_type": "markdown",
   "metadata": {},
   "source": [
    "**Expected Outputs:**\n",
    "```python\n",
    "separate('Hello, how are you?') == ['Hello,', 'how', 'are', 'you?']\n",
    "separate('I can code in Python!') == ['I', 'can', 'code', 'in', 'Python!']\n",
    "```"
   ]
  },
  {
   "cell_type": "markdown",
   "metadata": {},
   "source": [
    "## Challenge 3\n",
    "\n",
    "Similar to the previous task, write a function called _`edit`_ which takes a string sentence as input, capitalises each letter of the string, and splits this sentence into words along each space character (\" \"). The resulting strings need to be returned as a list, where each string must be in **UPPERCASE** letters.  \n",
    "\n",
    "For example: \n",
    "\n",
    "`>>> edit(\"Let's do this!\")`\n",
    "\n",
    "`[\"LET'S\", 'DO', 'THIS!']` "
   ]
  },
  {
   "cell_type": "code",
   "execution_count": 5,
   "metadata": {},
   "outputs": [],
   "source": [
    "### START FUNCTION\n",
    "def edit(sentence):\n",
    "    upper= sentence.upper()\n",
    "    lyst= upper.split()\n",
    "    \n",
    "    return lyst\n",
    "### END FUNCTION"
   ]
  },
  {
   "cell_type": "code",
   "execution_count": 6,
   "metadata": {},
   "outputs": [
    {
     "data": {
      "text/plain": [
       "True"
      ]
     },
     "execution_count": 6,
     "metadata": {},
     "output_type": "execute_result"
    }
   ],
   "source": [
    "edit('I can code in Python!') == ['I', 'CAN', 'CODE', 'IN', 'PYTHON!']"
   ]
  },
  {
   "cell_type": "markdown",
   "metadata": {},
   "source": [
    "**Expected Outputs:**\n",
    "```python\n",
    "edit('Hello, how are you?') == ['HELLO,', 'HOW', 'ARE', 'YOU?']\n",
    "edit('I can code in Python!') == ['I', 'CAN', 'CODE', 'IN', 'PYTHON!']\n",
    "```"
   ]
  },
  {
   "cell_type": "code",
   "execution_count": null,
   "metadata": {},
   "outputs": [],
   "source": []
  }
 ],
 "metadata": {
  "kernelspec": {
   "display_name": "Python 3",
   "language": "python",
   "name": "python3"
  },
  "language_info": {
   "codemirror_mode": {
    "name": "ipython",
    "version": 3
   },
   "file_extension": ".py",
   "mimetype": "text/x-python",
   "name": "python",
   "nbconvert_exporter": "python",
   "pygments_lexer": "ipython3",
   "version": "3.8.8"
  }
 },
 "nbformat": 4,
 "nbformat_minor": 4
}
